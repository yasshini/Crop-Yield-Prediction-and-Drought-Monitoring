{
 "cells": [
  {
   "cell_type": "markdown",
   "id": "e3f77046",
   "metadata": {},
   "source": [
    "# Feature Selection & Data Preparation"
   ]
  },
  {
   "cell_type": "code",
   "execution_count": 1,
   "id": "da22b713",
   "metadata": {},
   "outputs": [],
   "source": [
    "import pandas as pd\n",
    "import numpy as np\n",
    "from sklearn.model_selection import train_test_split\n",
    "from sklearn.ensemble import RandomForestRegressor\n",
    "from sklearn.svm import SVR\n",
    "from sklearn.metrics import mean_squared_error, r2_score\n",
    "import tensorflow as tf\n",
    "from tensorflow.keras.models import Sequential\n",
    "from tensorflow.keras.layers import LSTM, Dense, Dropout\n",
    "from sklearn.preprocessing import MinMaxScaler\n"
   ]
  },
  {
   "cell_type": "code",
   "execution_count": 2,
   "id": "8ce1990b",
   "metadata": {},
   "outputs": [],
   "source": [
    "# Load cleaned datasets (if running separately)\n",
    "crop_data = pd.read_csv('Crop Data.csv')\n",
    "rainfall_data = pd.read_csv('Rainfall.csv')\n",
    "nutrient_data = pd.read_csv('Crop Nutrient.csv')\n",
    "price_data = pd.read_csv('Crop Price.csv')"
   ]
  },
  {
   "cell_type": "markdown",
   "id": "8abf4cd4",
   "metadata": {},
   "source": [
    "##### Select Features"
   ]
  },
  {
   "cell_type": "code",
   "execution_count": 3,
   "id": "5dd17195",
   "metadata": {},
   "outputs": [],
   "source": [
    "features = ['Area', 'Crop_encoded', 'Year']   # Add 'Season' if encoded numerically\n",
    "target = 'Yield'"
   ]
  },
  {
   "cell_type": "code",
   "execution_count": 4,
   "id": "0b41d14d",
   "metadata": {},
   "outputs": [],
   "source": [
    "X = crop_data[features]\n",
    "y = crop_data[target]"
   ]
  },
  {
   "cell_type": "markdown",
   "id": "2b44cf22",
   "metadata": {},
   "source": [
    "##### Train-Test Split"
   ]
  },
  {
   "cell_type": "code",
   "execution_count": 5,
   "id": "fdda21a2",
   "metadata": {},
   "outputs": [],
   "source": [
    "X_train, X_test, y_train, y_test = train_test_split(X, y, test_size=0.2, random_state=42)\n"
   ]
  },
  {
   "cell_type": "markdown",
   "id": "91d2e4b5",
   "metadata": {},
   "source": [
    "# 1. Random Forest Regressor"
   ]
  },
  {
   "cell_type": "code",
   "execution_count": 6,
   "id": "b7ecec3b",
   "metadata": {},
   "outputs": [
    {
     "name": "stdout",
     "output_type": "stream",
     "text": [
      "🌱 Random Forest R2 Score: 0.6741371565288983\n",
      "🌱 Random Forest RMSE: 10.093454895246325\n"
     ]
    }
   ],
   "source": [
    "rf = RandomForestRegressor(n_estimators=150, random_state=42)\n",
    "rf.fit(X_train, y_train)\n",
    "rf_pred = rf.predict(X_test)\n",
    "\n",
    "print(\"🌱 Random Forest R2 Score:\", r2_score(y_test, rf_pred))\n",
    "print(\"🌱 Random Forest RMSE:\", np.sqrt(mean_squared_error(y_test, rf_pred)))\n"
   ]
  },
  {
   "cell_type": "markdown",
   "id": "87c0141a",
   "metadata": {},
   "source": [
    "# 2. Support Vector Regressor (SVR)"
   ]
  },
  {
   "cell_type": "code",
   "execution_count": 7,
   "id": "44b1a033",
   "metadata": {},
   "outputs": [
    {
     "name": "stdout",
     "output_type": "stream",
     "text": [
      "🌾 SVR R2 Score: -0.07801696936707603\n",
      "🌾 SVR RMSE: 18.358416724111173\n"
     ]
    }
   ],
   "source": [
    "svr = SVR(kernel='rbf', C=100, epsilon=0.1)\n",
    "svr.fit(X_train, y_train)\n",
    "svr_pred = svr.predict(X_test)\n",
    "\n",
    "print(\"🌾 SVR R2 Score:\", r2_score(y_test, svr_pred))\n",
    "print(\"🌾 SVR RMSE:\", np.sqrt(mean_squared_error(y_test, svr_pred)))\n"
   ]
  },
  {
   "cell_type": "markdown",
   "id": "59eacfab",
   "metadata": {},
   "source": [
    "# 3. LSTM Model\n",
    "###### LSTM needs scaling & reshaping"
   ]
  },
  {
   "cell_type": "code",
   "execution_count": 8,
   "id": "6eb97f9b",
   "metadata": {},
   "outputs": [],
   "source": [
    "# Scaling the data\n",
    "scaler = MinMaxScaler()\n",
    "X_scaled = scaler.fit_transform(X)\n"
   ]
  },
  {
   "cell_type": "code",
   "execution_count": 9,
   "id": "e22b6693",
   "metadata": {},
   "outputs": [],
   "source": [
    "# Reshape for LSTM (samples, timesteps, features)\n",
    "X_lstm = X_scaled.reshape((X_scaled.shape[0], 1, X_scaled.shape[1]))"
   ]
  },
  {
   "cell_type": "code",
   "execution_count": 10,
   "id": "4b509e0c",
   "metadata": {},
   "outputs": [],
   "source": [
    "# Build LSTM Model\n",
    "lstm = Sequential()\n",
    "lstm.add(LSTM(64, input_shape=(X_lstm.shape[1], X_lstm.shape[2])))\n",
    "lstm.add(Dropout(0.2))\n",
    "lstm.add(Dense(1))\n",
    "lstm.compile(optimizer='adam', loss='mse')"
   ]
  },
  {
   "cell_type": "code",
   "execution_count": 11,
   "id": "d742ab26",
   "metadata": {
    "scrolled": true
   },
   "outputs": [
    {
     "name": "stdout",
     "output_type": "stream",
     "text": [
      "Epoch 1/50\n",
      "3703/3703 [==============================] - 13s 3ms/step - loss: 359.2459\n",
      "Epoch 2/50\n",
      "3703/3703 [==============================] - 10s 3ms/step - loss: 338.1708\n",
      "Epoch 3/50\n",
      "3703/3703 [==============================] - 10s 3ms/step - loss: 330.4947\n",
      "Epoch 4/50\n",
      "3703/3703 [==============================] - 10s 3ms/step - loss: 324.9945\n",
      "Epoch 5/50\n",
      "3703/3703 [==============================] - 11s 3ms/step - loss: 321.7418\n",
      "Epoch 6/50\n",
      "3703/3703 [==============================] - 11s 3ms/step - loss: 319.2728\n",
      "Epoch 7/50\n",
      "3703/3703 [==============================] - 11s 3ms/step - loss: 317.3806\n",
      "Epoch 8/50\n",
      "3703/3703 [==============================] - 11s 3ms/step - loss: 316.6733\n",
      "Epoch 9/50\n",
      "3703/3703 [==============================] - 11s 3ms/step - loss: 316.1404\n",
      "Epoch 10/50\n",
      "3703/3703 [==============================] - 11s 3ms/step - loss: 315.6687\n",
      "Epoch 11/50\n",
      "3703/3703 [==============================] - 11s 3ms/step - loss: 315.0779\n",
      "Epoch 12/50\n",
      "3703/3703 [==============================] - 11s 3ms/step - loss: 314.1466\n",
      "Epoch 13/50\n",
      "3703/3703 [==============================] - 11s 3ms/step - loss: 314.2785\n",
      "Epoch 14/50\n",
      "3703/3703 [==============================] - 11s 3ms/step - loss: 313.6732\n",
      "Epoch 15/50\n",
      "3703/3703 [==============================] - 11s 3ms/step - loss: 313.3732\n",
      "Epoch 16/50\n",
      "3703/3703 [==============================] - 11s 3ms/step - loss: 312.8797\n",
      "Epoch 17/50\n",
      "3703/3703 [==============================] - 11s 3ms/step - loss: 312.6772\n",
      "Epoch 18/50\n",
      "3703/3703 [==============================] - 11s 3ms/step - loss: 312.1636\n",
      "Epoch 19/50\n",
      "3703/3703 [==============================] - 11s 3ms/step - loss: 312.0963\n",
      "Epoch 20/50\n",
      "3703/3703 [==============================] - 11s 3ms/step - loss: 311.7950\n",
      "Epoch 21/50\n",
      "3703/3703 [==============================] - 11s 3ms/step - loss: 311.3007\n",
      "Epoch 22/50\n",
      "3703/3703 [==============================] - 11s 3ms/step - loss: 311.1648\n",
      "Epoch 23/50\n",
      "3703/3703 [==============================] - 11s 3ms/step - loss: 309.9915\n",
      "Epoch 24/50\n",
      "3703/3703 [==============================] - 11s 3ms/step - loss: 310.0702\n",
      "Epoch 25/50\n",
      "3703/3703 [==============================] - 11s 3ms/step - loss: 309.6377\n",
      "Epoch 26/50\n",
      "3703/3703 [==============================] - 11s 3ms/step - loss: 308.8647\n",
      "Epoch 27/50\n",
      "3703/3703 [==============================] - 11s 3ms/step - loss: 308.6078\n",
      "Epoch 28/50\n",
      "3703/3703 [==============================] - 11s 3ms/step - loss: 308.0322\n",
      "Epoch 29/50\n",
      "3703/3703 [==============================] - 11s 3ms/step - loss: 307.0742\n",
      "Epoch 30/50\n",
      "3703/3703 [==============================] - 11s 3ms/step - loss: 306.6010\n",
      "Epoch 31/50\n",
      "3703/3703 [==============================] - 11s 3ms/step - loss: 305.7048\n",
      "Epoch 32/50\n",
      "3703/3703 [==============================] - 11s 3ms/step - loss: 304.9618\n",
      "Epoch 33/50\n",
      "3703/3703 [==============================] - 11s 3ms/step - loss: 304.1360\n",
      "Epoch 34/50\n",
      "3703/3703 [==============================] - 11s 3ms/step - loss: 303.2556\n",
      "Epoch 35/50\n",
      "3703/3703 [==============================] - 11s 3ms/step - loss: 302.3450\n",
      "Epoch 36/50\n",
      "3703/3703 [==============================] - 11s 3ms/step - loss: 300.9338\n",
      "Epoch 37/50\n",
      "3703/3703 [==============================] - 11s 3ms/step - loss: 300.6002\n",
      "Epoch 38/50\n",
      "3703/3703 [==============================] - 11s 3ms/step - loss: 299.1402\n",
      "Epoch 39/50\n",
      "3703/3703 [==============================] - 11s 3ms/step - loss: 298.3595\n",
      "Epoch 40/50\n",
      "3703/3703 [==============================] - 11s 3ms/step - loss: 297.1817\n",
      "Epoch 41/50\n",
      "3703/3703 [==============================] - 11s 3ms/step - loss: 296.2204\n",
      "Epoch 42/50\n",
      "3703/3703 [==============================] - 11s 3ms/step - loss: 295.1417\n",
      "Epoch 43/50\n",
      "3703/3703 [==============================] - 11s 3ms/step - loss: 292.9521\n",
      "Epoch 44/50\n",
      "3703/3703 [==============================] - 11s 3ms/step - loss: 291.0728\n",
      "Epoch 45/50\n",
      "3703/3703 [==============================] - 11s 3ms/step - loss: 290.0016\n",
      "Epoch 46/50\n",
      "3703/3703 [==============================] - 11s 3ms/step - loss: 287.8699\n",
      "Epoch 47/50\n",
      "3703/3703 [==============================] - 11s 3ms/step - loss: 286.7595\n",
      "Epoch 48/50\n",
      "3703/3703 [==============================] - 11s 3ms/step - loss: 285.0439\n",
      "Epoch 49/50\n",
      "3703/3703 [==============================] - 11s 3ms/step - loss: 282.7635\n",
      "Epoch 50/50\n",
      "3703/3703 [==============================] - 11s 3ms/step - loss: 280.3460\n"
     ]
    },
    {
     "data": {
      "text/plain": [
       "<keras.callbacks.History at 0x26f0cd16da0>"
      ]
     },
     "execution_count": 11,
     "metadata": {},
     "output_type": "execute_result"
    }
   ],
   "source": [
    "# Train LSTM\n",
    "lstm.fit(X_lstm, y, epochs=50, batch_size=32, verbose=1)"
   ]
  },
  {
   "cell_type": "code",
   "execution_count": 12,
   "id": "9d5147aa",
   "metadata": {},
   "outputs": [
    {
     "name": "stdout",
     "output_type": "stream",
     "text": [
      "3703/3703 [==============================] - 6s 2ms/step\n",
      "🌿 LSTM RMSE: 16.510670694186096\n"
     ]
    }
   ],
   "source": [
    "# Predict with LSTM\n",
    "lstm_pred = lstm.predict(X_lstm)\n",
    "\n",
    "print(\"🌿 LSTM RMSE:\", np.sqrt(mean_squared_error(y, lstm_pred)))"
   ]
  },
  {
   "cell_type": "markdown",
   "id": "8f64e138",
   "metadata": {},
   "source": [
    "# Final Model Comparison"
   ]
  },
  {
   "cell_type": "code",
   "execution_count": 13,
   "id": "b6d980f2",
   "metadata": {},
   "outputs": [
    {
     "name": "stdout",
     "output_type": "stream",
     "text": [
      "\n",
      "✅ Model Performance Summary:\n",
      "Random Forest R2: 0.6741371565288983\n",
      "SVR R2: -0.07801696936707603\n",
      "LSTM RMSE: 16.510670694186096\n"
     ]
    }
   ],
   "source": [
    "print(\"\\n✅ Model Performance Summary:\")\n",
    "print(\"Random Forest R2:\", r2_score(y_test, rf_pred))\n",
    "print(\"SVR R2:\", r2_score(y_test, svr_pred))\n",
    "print(\"LSTM RMSE:\", np.sqrt(mean_squared_error(y, lstm_pred)))\n"
   ]
  },
  {
   "cell_type": "markdown",
   "id": "38ab1461",
   "metadata": {},
   "source": [
    "# Plot Random Forest Predictions"
   ]
  },
  {
   "cell_type": "code",
   "execution_count": 14,
   "id": "ee025170",
   "metadata": {},
   "outputs": [
    {
     "data": {
      "image/png": "[encoded data removed]",
      "text/plain": [
       "<Figure size 1000x500 with 1 Axes>"
      ]
     },
     "metadata": {},
     "output_type": "display_data"
    }
   ],
   "source": [
    "import matplotlib.pyplot as plt\n",
    "\n",
    "plt.figure(figsize=(10, 5))\n",
    "plt.scatter(y_test, rf_pred, color='LightSeaGreen')\n",
    "plt.xlabel('Actual Yield')\n",
    "plt.ylabel('Predicted Yield (Random Forest)')\n",
    "plt.title('Random Forest Actual vs Predicted Yield')\n",
    "plt.show()\n"
   ]
  },
  {
   "cell_type": "markdown",
   "id": "0f2183ea",
   "metadata": {},
   "source": [
    "# Random Forest Tuning with GridSearchCV"
   ]
  },
  {
   "cell_type": "code",
   "execution_count": 15,
   "id": "5d316932",
   "metadata": {},
   "outputs": [],
   "source": [
    "from sklearn.ensemble import RandomForestRegressor\n",
    "from sklearn.model_selection import GridSearchCV\n",
    "from sklearn.metrics import r2_score, mean_squared_error\n",
    "import numpy as np"
   ]
  },
  {
   "cell_type": "code",
   "execution_count": 16,
   "id": "c54d8a4d",
   "metadata": {},
   "outputs": [],
   "source": [
    "# Random Forest Hyperparameter Grid\n",
    "param_grid = {\n",
    "    'n_estimators': [100, 200, 300],\n",
    "    'max_depth': [10, 20, None],\n",
    "    'min_samples_split': [2, 5, 10],\n",
    "    'min_samples_leaf': [1, 2, 4],\n",
    "}\n"
   ]
  },
  {
   "cell_type": "code",
   "execution_count": 17,
   "id": "3a70819c",
   "metadata": {},
   "outputs": [],
   "source": [
    "# Initialize Random Forest\n",
    "rf = RandomForestRegressor(random_state=42)"
   ]
  },
  {
   "cell_type": "code",
   "execution_count": 18,
   "id": "294976e5",
   "metadata": {},
   "outputs": [
    {
     "name": "stdout",
     "output_type": "stream",
     "text": [
      "Fitting 3 folds for each of 10 candidates, totalling 30 fits\n"
     ]
    }
   ],
   "source": [
    "from sklearn.ensemble import RandomForestRegressor\n",
    "from sklearn.model_selection import RandomizedSearchCV\n",
    "from sklearn.metrics import r2_score\n",
    "import numpy as np\n",
    "import time\n",
    "\n",
    "# ✅ Random Forest Model\n",
    "rf = RandomForestRegressor(random_state=42)\n",
    "\n",
    "# ✅ Optimized Parameter Distribution (Reduced for speed)\n",
    "param_dist = {\n",
    "    'n_estimators': [100, 150, 200],\n",
    "    'max_depth': [10, 15, None],\n",
    "    'min_samples_split': [2, 5],\n",
    "    'min_samples_leaf': [1, 2]\n",
    "}\n",
    "\n",
    "# ✅ RandomizedSearchCV with 10 iterations\n",
    "random_search = RandomizedSearchCV(estimator=rf,\n",
    "                                   param_distributions=param_dist,\n",
    "                                   n_iter=10,          # Controls total runs (set to 10 for speed)\n",
    "                                   cv=3,\n",
    "                                   scoring='r2',\n",
    "                                   verbose=2,\n",
    "                                   n_jobs=-1,\n",
    "                                   random_state=42)\n",
    "\n",
    "# ✅ Timer to measure execution\n",
    "start = time.time()\n",
    "\n",
    "# ✅ Fitting the model\n",
    "random_search.fit(X_train, y_train)\n",
    "\n",
    "end = time.time()\n",
    "\n"
   ]
  },
  {
   "cell_type": "code",
   "execution_count": 19,
   "id": "0031dec6",
   "metadata": {},
   "outputs": [
    {
     "name": "stdout",
     "output_type": "stream",
     "text": [
      "✅ Best Parameters: {'n_estimators': 200, 'min_samples_split': 2, 'min_samples_leaf': 2, 'max_depth': 10}\n",
      "✅ Best R2 Score (Train CV): 0.5887738976124363\n",
      "✅ Total Time Taken: 3.15 minutes\n"
     ]
    }
   ],
   "source": [
    "# ✅ Output the results\n",
    "print(\"✅ Best Parameters:\", random_search.best_params_)\n",
    "print(\"✅ Best R2 Score (Train CV):\", random_search.best_score_)\n",
    "print(f\"✅ Total Time Taken: {(end - start) / 60:.2f} minutes\")\n",
    "\n"
   ]
  },
  {
   "cell_type": "code",
   "execution_count": 20,
   "id": "6e46502c",
   "metadata": {},
   "outputs": [
    {
     "name": "stdout",
     "output_type": "stream",
     "text": [
      "✅ Random Forest R2 on Test Data: 0.731844063964203\n"
     ]
    }
   ],
   "source": [
    "# ✅ Predict and evaluate\n",
    "best_rf = random_search.best_estimator_\n",
    "y_pred = best_rf.predict(X_test)\n",
    "print(\"✅ Random Forest R2 on Test Data:\", r2_score(y_test, y_pred))\n"
   ]
  },
  {
   "cell_type": "markdown",
   "id": "97af47b9",
   "metadata": {},
   "source": [
    "# Improved LSTM Model with Scaling, Dropout & EarlyStopping"
   ]
  },
  {
   "cell_type": "code",
   "execution_count": 21,
   "id": "c55fa769",
   "metadata": {},
   "outputs": [],
   "source": [
    "import numpy as np\n",
    "from tensorflow.keras.models import Sequential\n",
    "from tensorflow.keras.layers import LSTM, Dense, Dropout\n",
    "from tensorflow.keras.callbacks import EarlyStopping\n",
    "from sklearn.preprocessing import MinMaxScaler\n",
    "from sklearn.metrics import mean_squared_error"
   ]
  },
  {
   "cell_type": "code",
   "execution_count": 22,
   "id": "771c87c7",
   "metadata": {},
   "outputs": [],
   "source": [
    "# Scaling the features\n",
    "scaler = MinMaxScaler()\n",
    "X_train_scaled = scaler.fit_transform(X_train)\n",
    "X_test_scaled = scaler.transform(X_test)"
   ]
  },
  {
   "cell_type": "code",
   "execution_count": 23,
   "id": "10a53cf6",
   "metadata": {},
   "outputs": [],
   "source": [
    "# Reshape for LSTM (samples, time_steps, features)\n",
    "X_train_lstm = X_train_scaled.reshape((X_train_scaled.shape[0], 1, X_train_scaled.shape[1]))\n",
    "X_test_lstm = X_test_scaled.reshape((X_test_scaled.shape[0], 1, X_test_scaled.shape[1]))\n"
   ]
  },
  {
   "cell_type": "code",
   "execution_count": 24,
   "id": "72795d80",
   "metadata": {},
   "outputs": [],
   "source": [
    "# ✅ Build Optimized LSTM Model\n",
    "model = Sequential()\n",
    "model.add(LSTM(64, activation='relu', input_shape=(1, X_train_scaled.shape[1])))\n",
    "model.add(Dropout(0.2))  # Helps prevent overfitting\n",
    "model.add(Dense(32, activation='relu'))\n",
    "model.add(Dense(1))  # Output layer\n",
    "\n",
    "model.compile(optimizer='adam', loss='mse')"
   ]
  },
  {
   "cell_type": "code",
   "execution_count": 25,
   "id": "c5f37453",
   "metadata": {},
   "outputs": [],
   "source": [
    "# ✅ Early stopping to reduce training time\n",
    "early_stop = EarlyStopping(monitor='val_loss', patience=10, restore_best_weights=True)\n"
   ]
  },
  {
   "cell_type": "code",
   "execution_count": 26,
   "id": "9c25199d",
   "metadata": {},
   "outputs": [
    {
     "name": "stdout",
     "output_type": "stream",
     "text": [
      "Epoch 1/50\n",
      "1185/1185 [==============================] - 5s 4ms/step - loss: 394.1710 - val_loss: 265.5045\n",
      "Epoch 2/50\n",
      "1185/1185 [==============================] - 4s 3ms/step - loss: 353.0164 - val_loss: 245.2730\n",
      "Epoch 3/50\n",
      "1185/1185 [==============================] - 4s 3ms/step - loss: 338.3679 - val_loss: 235.8660\n",
      "Epoch 4/50\n",
      "1185/1185 [==============================] - 4s 3ms/step - loss: 330.0251 - val_loss: 228.1394\n",
      "Epoch 5/50\n",
      "1185/1185 [==============================] - 4s 3ms/step - loss: 322.7795 - val_loss: 221.1024\n",
      "Epoch 6/50\n",
      "1185/1185 [==============================] - 4s 3ms/step - loss: 315.7861 - val_loss: 213.4666\n",
      "Epoch 7/50\n",
      "1185/1185 [==============================] - 4s 3ms/step - loss: 309.2599 - val_loss: 206.9711\n",
      "Epoch 8/50\n",
      "1185/1185 [==============================] - 4s 3ms/step - loss: 303.1650 - val_loss: 201.1174\n",
      "Epoch 9/50\n",
      "1185/1185 [==============================] - 4s 3ms/step - loss: 298.5537 - val_loss: 196.4689\n",
      "Epoch 10/50\n",
      "1185/1185 [==============================] - 4s 3ms/step - loss: 294.4810 - val_loss: 192.1707\n",
      "Epoch 11/50\n",
      "1185/1185 [==============================] - 4s 3ms/step - loss: 290.5226 - val_loss: 188.6621\n",
      "Epoch 12/50\n",
      "1185/1185 [==============================] - 4s 3ms/step - loss: 285.6555 - val_loss: 183.9962\n",
      "Epoch 13/50\n",
      "1185/1185 [==============================] - 4s 3ms/step - loss: 279.5665 - val_loss: 174.7966\n",
      "Epoch 14/50\n",
      "1185/1185 [==============================] - 4s 3ms/step - loss: 271.6988 - val_loss: 167.0983\n",
      "Epoch 15/50\n",
      "1185/1185 [==============================] - 4s 3ms/step - loss: 261.8527 - val_loss: 153.3409\n",
      "Epoch 16/50\n",
      "1185/1185 [==============================] - 4s 3ms/step - loss: 247.9413 - val_loss: 129.7644\n",
      "Epoch 17/50\n",
      "1185/1185 [==============================] - 4s 3ms/step - loss: 228.6027 - val_loss: 105.5791\n",
      "Epoch 18/50\n",
      "1185/1185 [==============================] - 4s 3ms/step - loss: 208.3407 - val_loss: 87.0156\n",
      "Epoch 19/50\n",
      "1185/1185 [==============================] - 4s 4ms/step - loss: 198.6608 - val_loss: 86.7967\n",
      "Epoch 20/50\n",
      "1185/1185 [==============================] - 4s 3ms/step - loss: 195.5516 - val_loss: 82.1084\n",
      "Epoch 21/50\n",
      "1185/1185 [==============================] - 4s 3ms/step - loss: 193.3186 - val_loss: 80.6423\n",
      "Epoch 22/50\n",
      "1185/1185 [==============================] - 4s 3ms/step - loss: 191.1412 - val_loss: 80.1503\n",
      "Epoch 23/50\n",
      "1185/1185 [==============================] - 4s 3ms/step - loss: 190.9382 - val_loss: 79.8715\n",
      "Epoch 24/50\n",
      "1185/1185 [==============================] - 4s 3ms/step - loss: 189.3755 - val_loss: 78.9351\n",
      "Epoch 25/50\n",
      "1185/1185 [==============================] - 4s 3ms/step - loss: 188.5194 - val_loss: 78.9800\n",
      "Epoch 26/50\n",
      "1185/1185 [==============================] - 4s 3ms/step - loss: 186.8275 - val_loss: 79.7037\n",
      "Epoch 27/50\n",
      "1185/1185 [==============================] - 4s 3ms/step - loss: 186.4802 - val_loss: 78.6908\n",
      "Epoch 28/50\n",
      "1185/1185 [==============================] - 4s 3ms/step - loss: 185.5126 - val_loss: 77.7092\n",
      "Epoch 29/50\n",
      "1185/1185 [==============================] - 4s 3ms/step - loss: 185.5119 - val_loss: 77.2842\n",
      "Epoch 30/50\n",
      "1185/1185 [==============================] - 4s 3ms/step - loss: 185.0199 - val_loss: 76.4529\n",
      "Epoch 31/50\n",
      "1185/1185 [==============================] - 4s 3ms/step - loss: 184.2421 - val_loss: 76.3131\n",
      "Epoch 32/50\n",
      "1185/1185 [==============================] - 4s 3ms/step - loss: 184.2193 - val_loss: 76.5452\n",
      "Epoch 33/50\n",
      "1185/1185 [==============================] - 4s 4ms/step - loss: 184.1609 - val_loss: 75.7685\n",
      "Epoch 34/50\n",
      "1185/1185 [==============================] - 4s 3ms/step - loss: 183.7610 - val_loss: 76.6254\n",
      "Epoch 35/50\n",
      "1185/1185 [==============================] - 4s 3ms/step - loss: 183.1005 - val_loss: 75.9797\n",
      "Epoch 36/50\n",
      "1185/1185 [==============================] - 4s 3ms/step - loss: 181.9885 - val_loss: 76.6996\n",
      "Epoch 37/50\n",
      "1185/1185 [==============================] - 4s 3ms/step - loss: 182.0379 - val_loss: 75.4959\n",
      "Epoch 38/50\n",
      "1185/1185 [==============================] - 4s 3ms/step - loss: 181.8577 - val_loss: 75.2820\n",
      "Epoch 39/50\n",
      "1185/1185 [==============================] - 4s 3ms/step - loss: 181.8154 - val_loss: 75.5778\n",
      "Epoch 40/50\n",
      "1185/1185 [==============================] - 4s 3ms/step - loss: 181.4549 - val_loss: 75.6955\n",
      "Epoch 41/50\n",
      "1185/1185 [==============================] - 4s 3ms/step - loss: 180.8986 - val_loss: 74.7388\n",
      "Epoch 42/50\n",
      "1185/1185 [==============================] - 4s 3ms/step - loss: 181.0500 - val_loss: 74.6105\n",
      "Epoch 43/50\n",
      "1185/1185 [==============================] - 4s 3ms/step - loss: 180.2531 - val_loss: 74.5426\n",
      "Epoch 44/50\n",
      "1185/1185 [==============================] - 4s 3ms/step - loss: 181.0262 - val_loss: 75.0186\n",
      "Epoch 45/50\n",
      "1185/1185 [==============================] - 4s 4ms/step - loss: 180.1928 - val_loss: 74.5350\n",
      "Epoch 46/50\n",
      "1185/1185 [==============================] - 5s 4ms/step - loss: 180.2101 - val_loss: 74.4915\n",
      "Epoch 47/50\n",
      "1185/1185 [==============================] - 4s 4ms/step - loss: 180.1770 - val_loss: 74.0343\n",
      "Epoch 48/50\n",
      "1185/1185 [==============================] - 4s 4ms/step - loss: 180.4094 - val_loss: 75.2334\n",
      "Epoch 49/50\n",
      "1185/1185 [==============================] - 4s 4ms/step - loss: 179.8840 - val_loss: 76.8776\n",
      "Epoch 50/50\n",
      "1185/1185 [==============================] - 4s 4ms/step - loss: 180.2475 - val_loss: 74.7711\n"
     ]
    }
   ],
   "source": [
    "# ✅ Train the LSTM model (Updated to 50 epochs and batch size 64)\n",
    "history = model.fit(\n",
    "    X_train_lstm, y_train,\n",
    "    validation_split=0.2,\n",
    "    epochs=50,             # ✅ Changed to 50 epochs\n",
    "    batch_size=64,         # ✅ Batch size remains optimized for speed\n",
    "    callbacks=[early_stop],\n",
    "    verbose=1\n",
    ")\n"
   ]
  },
  {
   "cell_type": "code",
   "execution_count": 27,
   "id": "1307e8ea",
   "metadata": {},
   "outputs": [
    {
     "name": "stdout",
     "output_type": "stream",
     "text": [
      "741/741 [==============================] - 1s 2ms/step\n",
      "✅ Optimized LSTM RMSE: 8.247142909701294\n"
     ]
    }
   ],
   "source": [
    "# ✅ Predict and Evaluate\n",
    "lstm_pred = model.predict(X_test_lstm).flatten()\n",
    "rmse = np.sqrt(mean_squared_error(y_test, lstm_pred))\n",
    "print(\"✅ Optimized LSTM RMSE:\", rmse)"
   ]
  },
  {
   "cell_type": "markdown",
   "id": "ae6dc66e",
   "metadata": {},
   "source": [
    "# Model for Deployment"
   ]
  },
  {
   "cell_type": "code",
   "execution_count": 28,
   "id": "1f65b166",
   "metadata": {},
   "outputs": [
    {
     "name": "stdout",
     "output_type": "stream",
     "text": [
      "✅ Random Forest Model Saved!\n"
     ]
    }
   ],
   "source": [
    "import joblib\n",
    "\n",
    "# After Random Forest training\n",
    "joblib.dump(rf, 'model/random_forest_model.pkl')\n",
    "print(\"✅ Random Forest Model Saved!\")\n"
   ]
  },
  {
   "cell_type": "code",
   "execution_count": 29,
   "id": "a15fdd6e",
   "metadata": {},
   "outputs": [
    {
     "name": "stdout",
     "output_type": "stream",
     "text": [
      "✅ LSTM Model Saved!\n"
     ]
    }
   ],
   "source": [
    "# After LSTM training\n",
    "model.save('model/lstm_model.h5')\n",
    "print(\"✅ LSTM Model Saved!\")\n"
   ]
  },
  {
   "cell_type": "code",
   "execution_count": 33,
   "id": "eff54c06",
   "metadata": {},
   "outputs": [],
   "source": [
    "import pickle\n",
    "from sklearn.preprocessing import StandardScaler\n",
    "\n",
    "scaler = StandardScaler()\n",
    "scaler.fit(X_train)  # Fit on training data\n",
    "\n",
    "pickle.dump(scaler, open('model/scaler.pkl', 'wb'))  # Save the scaler object itself\n"
   ]
  },
  {
   "cell_type": "code",
   "execution_count": null,
   "id": "df0475d5",
   "metadata": {},
   "outputs": [],
   "source": []
  }
 ],
 "metadata": {
  "kernelspec": {
   "display_name": "Python 3 (ipykernel)",
   "language": "python",
   "name": "python3"
  },
  "language_info": {
   "codemirror_mode": {
    "name": "ipython",
    "version": 3
   },
   "file_extension": ".py",
   "mimetype": "text/x-python",
   "name": "python",
   "nbconvert_exporter": "python",
   "pygments_lexer": "ipython3",
   "version": "3.7.1"
  }
 },
 "nbformat": 4,
 "nbformat_minor": 5
}
