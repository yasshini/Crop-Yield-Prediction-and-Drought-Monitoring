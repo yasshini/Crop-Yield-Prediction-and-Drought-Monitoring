{
 "cells": [
  {
   "cell_type": "markdown",
   "id": "efce6ac6",
   "metadata": {},
   "source": [
    "# Preprocessing "
   ]
  },
  {
   "cell_type": "code",
   "execution_count": 1,
   "id": "f28f347b",
   "metadata": {},
   "outputs": [],
   "source": [
    "# Import required libraries\n",
    "import pandas as pd\n",
    "import numpy as np\n",
    "from sklearn.preprocessing import LabelEncoder, MinMaxScaler"
   ]
  },
  {
   "cell_type": "code",
   "execution_count": 2,
   "id": "36cf2d3e",
   "metadata": {},
   "outputs": [],
   "source": [
    "# Load Datasets\n",
    "crop_data = pd.read_csv('Crop Data.csv')\n",
    "rainfall_data = pd.read_csv('Rainfall.csv')\n",
    "nutrient_data = pd.read_csv('Crop Nutrient.csv')\n",
    "price_data = pd.read_csv('Crop Price.csv')"
   ]
  },
  {
   "cell_type": "code",
   "execution_count": 3,
   "id": "62ba7d1c",
   "metadata": {},
   "outputs": [
    {
     "data": {
      "text/plain": [
       "Index(['State', 'District', 'Crop', 'Year', 'Season', 'Area', 'Production',\n",
       "       'Yield', 'Crop_encoded'],\n",
       "      dtype='object')"
      ]
     },
     "execution_count": 3,
     "metadata": {},
     "output_type": "execute_result"
    }
   ],
   "source": [
    "crop_data.columns"
   ]
  },
  {
   "cell_type": "code",
   "execution_count": 4,
   "id": "7527f806",
   "metadata": {},
   "outputs": [
    {
     "data": {
      "text/plain": [
       "Index(['Year', 'State', 'District', 'Jan', 'Feb', 'Mar', 'Apr', 'May', 'Jun',\n",
       "       'Jul', 'Aug', 'Sep', 'Oct', 'Nov', 'Dec', 'Annual'],\n",
       "      dtype='object')"
      ]
     },
     "execution_count": 4,
     "metadata": {},
     "output_type": "execute_result"
    }
   ],
   "source": [
    "rainfall_data.columns"
   ]
  },
  {
   "cell_type": "code",
   "execution_count": 5,
   "id": "b7d7b9dc",
   "metadata": {},
   "outputs": [
    {
     "data": {
      "text/plain": [
       "Index(['N', 'P', 'K', 'Temperature', 'Humidity', 'pH', 'Rainfall', 'Crop',\n",
       "       'Crop_encoded'],\n",
       "      dtype='object')"
      ]
     },
     "execution_count": 5,
     "metadata": {},
     "output_type": "execute_result"
    }
   ],
   "source": [
    "nutrient_data.columns"
   ]
  },
  {
   "cell_type": "code",
   "execution_count": 6,
   "id": "b5c3e177",
   "metadata": {},
   "outputs": [
    {
     "data": {
      "text/plain": [
       "Index(['Year', 'State', 'District', 'Rice', 'Wheat', 'Jowar', 'Pearl Millet',\n",
       "       'Maize', 'Barley', 'Chickpea', 'Groundnut', 'Sesamum', 'Sugarcane',\n",
       "       'Cotton'],\n",
       "      dtype='object')"
      ]
     },
     "execution_count": 6,
     "metadata": {},
     "output_type": "execute_result"
    }
   ],
   "source": [
    "price_data.columns"
   ]
  },
  {
   "cell_type": "code",
   "execution_count": 7,
   "id": "85548fe5",
   "metadata": {
    "scrolled": true
   },
   "outputs": [
    {
     "data": {
      "text/plain": [
       "array([1998, 1999, 2000, 2001, 2002, 2003, 2004, 2005, 2006, 2007, 2008,\n",
       "       2009, 2010, 2011, 1997, 2012, 2013, 2014, 2015, 2016, 2017, 2018,\n",
       "       2019, 2020], dtype=int64)"
      ]
     },
     "execution_count": 7,
     "metadata": {},
     "output_type": "execute_result"
    }
   ],
   "source": [
    "crop_data['Year'].unique()"
   ]
  },
  {
   "cell_type": "code",
   "execution_count": 8,
   "id": "bca595b4",
   "metadata": {},
   "outputs": [
    {
     "data": {
      "text/plain": [
       "array([2004, 2005, 2006, 2007, 2008, 2009, 2010, 2011, 2012, 2013, 2014,\n",
       "       2015, 2003], dtype=int64)"
      ]
     },
     "execution_count": 8,
     "metadata": {},
     "output_type": "execute_result"
    }
   ],
   "source": [
    "rainfall_data['Year'].unique()"
   ]
  },
  {
   "cell_type": "code",
   "execution_count": 9,
   "id": "cf45561f",
   "metadata": {
    "scrolled": true
   },
   "outputs": [
    {
     "data": {
      "text/plain": [
       "array([2003, 2004, 2005, 2006, 2007, 2008, 2009, 2010, 2011, 2012, 2013,\n",
       "       2014, 2015], dtype=int64)"
      ]
     },
     "execution_count": 9,
     "metadata": {},
     "output_type": "execute_result"
    }
   ],
   "source": [
    "price_data['Year'].unique()"
   ]
  },
  {
   "cell_type": "markdown",
   "id": "bca62f00",
   "metadata": {},
   "source": [
    "### Handling Missing Values"
   ]
  },
  {
   "cell_type": "code",
   "execution_count": 10,
   "id": "bb339dcc",
   "metadata": {},
   "outputs": [],
   "source": [
    "crop_data.fillna(crop_data.mean(numeric_only=True), inplace=True)\n",
    "rainfall_data.fillna(rainfall_data.mean(numeric_only=True), inplace=True)\n",
    "nutrient_data.fillna(nutrient_data.mean(numeric_only=True), inplace=True)\n",
    "price_data.fillna(price_data.mean(numeric_only=True), inplace=True)"
   ]
  },
  {
   "cell_type": "markdown",
   "id": "5d9cde84",
   "metadata": {},
   "source": [
    "### Data Type Conversion"
   ]
  },
  {
   "cell_type": "code",
   "execution_count": 11,
   "id": "15b2d757",
   "metadata": {},
   "outputs": [],
   "source": [
    "# Convert Production and Area to numeric\n",
    "crop_data['Production'] = pd.to_numeric(crop_data['Production'], errors='coerce')\n",
    "crop_data['Area'] = pd.to_numeric(crop_data['Area'], errors='coerce')"
   ]
  },
  {
   "cell_type": "code",
   "execution_count": 12,
   "id": "2ed6c762",
   "metadata": {},
   "outputs": [],
   "source": [
    "# Optional: Ensure Year is integer\n",
    "crop_data['Year'] = crop_data['Year'].astype(int)\n",
    "rainfall_data['Year'] = rainfall_data['Year'].astype(int)\n",
    "price_data['Year'] = price_data['Year'].astype(int)"
   ]
  },
  {
   "cell_type": "markdown",
   "id": "ebf79769",
   "metadata": {},
   "source": [
    "### Encoding Categorical Columns"
   ]
  },
  {
   "cell_type": "code",
   "execution_count": 13,
   "id": "ac17902b",
   "metadata": {},
   "outputs": [],
   "source": [
    "le = LabelEncoder()\n",
    "crop_data['Crop_encoded'] = le.fit_transform(crop_data['Crop'])\n",
    "nutrient_data['Crop_encoded'] = le.fit_transform(nutrient_data['Crop'])"
   ]
  },
  {
   "cell_type": "markdown",
   "id": "66a3c2cf",
   "metadata": {},
   "source": [
    "### Feature Scaling for Nutrient Data"
   ]
  },
  {
   "cell_type": "code",
   "execution_count": 14,
   "id": "7d237041",
   "metadata": {},
   "outputs": [],
   "source": [
    "scaler = MinMaxScaler()\n",
    "nutrient_scaled = nutrient_data.copy()\n",
    "nutrient_scaled[['N', 'P', 'K', 'pH', 'Temperature', 'Humidity']] = scaler.fit_transform(\n",
    "    nutrient_data[['N', 'P', 'K', 'pH', 'Temperature', 'Humidity']]\n",
    ")"
   ]
  },
  {
   "cell_type": "markdown",
   "id": "131937b6",
   "metadata": {},
   "source": [
    "### Save Cleaned Datasets "
   ]
  },
  {
   "cell_type": "code",
   "execution_count": 15,
   "id": "f8c9c6ec",
   "metadata": {},
   "outputs": [],
   "source": [
    "crop_data.to_csv('Crop Data.csv', index=False)\n",
    "rainfall_data.to_csv('Rainfall.csv', index=False)\n",
    "nutrient_scaled.to_csv('Crop Nutrient.csv', index=False)\n",
    "price_data.to_csv('Crop Price.csv', index=False)"
   ]
  }
 ],
 "metadata": {
  "kernelspec": {
   "display_name": "Python 3 (ipykernel)",
   "language": "python",
   "name": "python3"
  },
  "language_info": {
   "codemirror_mode": {
    "name": "ipython",
    "version": 3
   },
   "file_extension": ".py",
   "mimetype": "text/x-python",
   "name": "python",
   "nbconvert_exporter": "python",
   "pygments_lexer": "ipython3",
   "version": "3.7.1"
  }
 },
 "nbformat": 4,
 "nbformat_minor": 5
}
