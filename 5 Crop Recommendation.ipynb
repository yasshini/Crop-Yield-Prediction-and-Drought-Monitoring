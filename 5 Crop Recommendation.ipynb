{
 "cells": [
  {
   "cell_type": "code",
   "execution_count": 1,
   "id": "17ef0d6a",
   "metadata": {},
   "outputs": [],
   "source": [
    "import pandas as pd\n",
    "from sklearn.ensemble import RandomForestClassifier\n",
    "from sklearn.model_selection import train_test_split\n",
    "from sklearn.metrics import accuracy_score\n",
    "import joblib"
   ]
  },
  {
   "cell_type": "code",
   "execution_count": 2,
   "id": "050ceaae",
   "metadata": {},
   "outputs": [],
   "source": [
    "# Load the cleaned dataset\n",
    "df = pd.read_csv('Crop Nutrient.csv')"
   ]
  },
  {
   "cell_type": "code",
   "execution_count": 3,
   "id": "ffba4487",
   "metadata": {},
   "outputs": [],
   "source": [
    "# Features and Target\n",
    "X = df[['N', 'P', 'K', 'Temperature', 'Humidity', 'pH', 'Rainfall']]\n",
    "y = df['Crop']"
   ]
  },
  {
   "cell_type": "code",
   "execution_count": 4,
   "id": "dad66254",
   "metadata": {},
   "outputs": [],
   "source": [
    "# Train-Test Split\n",
    "X_train, X_test, y_train, y_test = train_test_split(X, y, test_size=0.2, random_state=42)\n"
   ]
  },
  {
   "cell_type": "markdown",
   "id": "2e999030",
   "metadata": {},
   "source": [
    "# RandomForest Classifier"
   ]
  },
  {
   "cell_type": "code",
   "execution_count": 5,
   "id": "7b50a416",
   "metadata": {},
   "outputs": [
    {
     "data": {
      "text/plain": [
       "RandomForestClassifier(n_estimators=200, random_state=42)"
      ]
     },
     "execution_count": 5,
     "metadata": {},
     "output_type": "execute_result"
    }
   ],
   "source": [
    "# Initialize RandomForest Classifier\n",
    "model = RandomForestClassifier(n_estimators=200, random_state=42)\n",
    "model.fit(X_train, y_train)"
   ]
  },
  {
   "cell_type": "code",
   "execution_count": 6,
   "id": "dc6d2afa",
   "metadata": {},
   "outputs": [
    {
     "name": "stdout",
     "output_type": "stream",
     "text": [
      "✅ Model Accuracy: 0.9931818181818182\n"
     ]
    }
   ],
   "source": [
    "# Accuracy Check\n",
    "y_pred = model.predict(X_test)\n",
    "print(\"✅ Model Accuracy:\", accuracy_score(y_test, y_pred))"
   ]
  },
  {
   "cell_type": "code",
   "execution_count": 7,
   "id": "867c2526",
   "metadata": {},
   "outputs": [
    {
     "name": "stdout",
     "output_type": "stream",
     "text": [
      "✅ Model saved as crop_recommendation_model.pkl\n"
     ]
    }
   ],
   "source": [
    "joblib.dump(model, 'model/crop_recommendation_model.pkl')\n",
    "print(\"✅ Model saved as crop_recommendation_model.pkl\")"
   ]
  },
  {
   "cell_type": "markdown",
   "id": "52a7b6ae",
   "metadata": {},
   "source": [
    "### Example"
   ]
  },
  {
   "cell_type": "code",
   "execution_count": 8,
   "id": "733d83e9",
   "metadata": {},
   "outputs": [
    {
     "name": "stdout",
     "output_type": "stream",
     "text": [
      "🌾 Test Input 1 => Recommended Crop: rice\n",
      "🌾 Test Input 2 => Recommended Crop: rice\n",
      "🌾 Test Input 3 => Recommended Crop: jute\n"
     ]
    }
   ],
   "source": [
    "feature_names = ['N', 'P', 'K', 'Temperature', 'Humidity', 'pH', 'Rainfall']\n",
    "\n",
    "test_inputs = [\n",
    "    [0.642857, 0.264286, 0.190, 0.345886, 0.790267, 0.466264, 202.935536],\n",
    "    [0.607143, 0.378571, 0.180, 0.371445, 0.770633, 0.549480, 226.655537],\n",
    "    [0.500000, 0.300000, 0.250, 0.250000, 0.650000, 0.500000, 150.000000]\n",
    "]\n",
    "\n",
    "for i, test in enumerate(test_inputs):\n",
    "    test_df = pd.DataFrame([test], columns=feature_names)\n",
    "    prediction = model.predict(test_df)\n",
    "    print(f\"🌾 Test Input {i+1} => Recommended Crop: {prediction[0]}\")\n"
   ]
  },
  {
   "cell_type": "code",
   "execution_count": null,
   "id": "2c7eddf7",
   "metadata": {},
   "outputs": [],
   "source": []
  }
 ],
 "metadata": {
  "kernelspec": {
   "display_name": "Python 3 (ipykernel)",
   "language": "python",
   "name": "python3"
  },
  "language_info": {
   "codemirror_mode": {
    "name": "ipython",
    "version": 3
   },
   "file_extension": ".py",
   "mimetype": "text/x-python",
   "name": "python",
   "nbconvert_exporter": "python",
   "pygments_lexer": "ipython3",
   "version": "3.7.1"
  }
 },
 "nbformat": 4,
 "nbformat_minor": 5
}
